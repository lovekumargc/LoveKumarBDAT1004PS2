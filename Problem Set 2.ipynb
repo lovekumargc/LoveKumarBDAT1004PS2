{
 "cells": [
  {
   "cell_type": "markdown",
   "metadata": {},
   "source": [
    "# Problem Set 2\n",
    "## Name - Love Kumar\n",
    "## Program - BDAT\n",
    "# Student # - 200456485"
   ]
  },
  {
   "cell_type": "markdown",
   "metadata": {},
   "source": [
    "# Answer 1"
   ]
  },
  {
   "cell_type": "code",
   "execution_count": 35,
   "metadata": {},
   "outputs": [
    {
     "name": "stdout",
     "output_type": "stream",
     "text": [
      "6\n"
     ]
    }
   ],
   "source": [
    "a = 0 #Intializing a with 0\n",
    "\n",
    "def b():\n",
    "    global a #Tells the function to use global variable a, instead of creating a new local one.\n",
    "    a = c(a) #Calls function c with global value of a and assign returned value to a\n",
    "\n",
    "def c(a):\n",
    "    return a + 2 # Adds 2 to the passed argument.\n",
    "\n",
    "b() # Value of a is increase from 0 to 2\n",
    "b() # Value of a is increased from 2 to 4\n",
    "b() # Value of a is increased from 4 to 2\n",
    "print(a)"
   ]
  },
  {
   "cell_type": "markdown",
   "metadata": {},
   "source": [
    "# Answer 2"
   ]
  },
  {
   "cell_type": "code",
   "execution_count": 36,
   "metadata": {},
   "outputs": [
    {
     "name": "stdout",
     "output_type": "stream",
     "text": [
      "File temp.dd not found.\n"
     ]
    }
   ],
   "source": [
    "# https://www.w3resource.com/python-exercises/file/python-io-exercise-11.php\n",
    "\n",
    "def fileLength(fileName):\n",
    "    try:\n",
    "        import os\n",
    "        statinfo = os.stat(fileName)\n",
    "        return statinfo.st_size\n",
    "    except FileNotFoundError:\n",
    "        print('File ' + fileName + ' not found.')\n",
    "\n",
    "fileLength('temp.dd')"
   ]
  },
  {
   "cell_type": "markdown",
   "metadata": {},
   "source": [
    "# Answer 3"
   ]
  },
  {
   "cell_type": "code",
   "execution_count": 37,
   "metadata": {},
   "outputs": [
    {
     "name": "stdout",
     "output_type": "stream",
     "text": [
      "['doll', 'firetruck', 'kitten', 23]\n",
      "I am a Kangaroo located at coordinates (0,0)\n",
      "['doll', 'firetruck', 'kitten']\n",
      "I am a Kangaroo located at coordinates (1,0)\n"
     ]
    }
   ],
   "source": [
    "class Marsupial:\n",
    "\n",
    "    def __init__(self):   \n",
    "        self.__contents = []\n",
    "\n",
    "    def put_in_pouch(self, content):\n",
    "        self.__contents.append(content)\n",
    "\n",
    "    def pouch_contents(self):\n",
    "        print(self.__contents)\n",
    "\n",
    "m = Marsupial()\n",
    "m.put_in_pouch('doll')\n",
    "m.put_in_pouch('firetruck')\n",
    "m.put_in_pouch('kitten')\n",
    "m.put_in_pouch(23)\n",
    "m.pouch_contents()\n",
    "\n",
    "class Kangaroo(Marsupial):\n",
    "\n",
    "    def __init__(self, x, y):   \n",
    "        self.x = x\n",
    "        self.y = y\n",
    "\n",
    "        Marsupial.__init__(self)\n",
    "\n",
    "    def jump(self, dx, dy):\n",
    "        self.x += dx\n",
    "        self.y += dy\n",
    "\n",
    "    def __str__(self):\n",
    "        return 'I am a Kangaroo located at coordinates ({},{})'.format(self.x,self.y)\n",
    "\n",
    "k = Kangaroo(0,0)\n",
    "print(k)\n",
    "\n",
    "k.put_in_pouch('doll')\n",
    "k.put_in_pouch('firetruck')\n",
    "k.put_in_pouch('kitten')\n",
    "k.pouch_contents()\n",
    "\n",
    "k.jump(1,0)\n",
    "k.jump(1,0)\n",
    "k.jump(-1,0)\n",
    "print(k)"
   ]
  },
  {
   "cell_type": "markdown",
   "metadata": {},
   "source": [
    "# Answer 5"
   ]
  },
  {
   "cell_type": "code",
   "execution_count": 38,
   "metadata": {},
   "outputs": [
    {
     "name": "stdout",
     "output_type": "stream",
     "text": [
      "27\n",
      "82\n",
      "41\n",
      "124\n",
      "62\n",
      "31\n",
      "94\n",
      "47\n",
      "142\n",
      "71\n",
      "214\n",
      "107\n",
      "322\n",
      "161\n",
      "484\n",
      "242\n",
      "121\n",
      "364\n",
      "182\n",
      "91\n",
      "274\n",
      "137\n",
      "412\n",
      "206\n",
      "103\n",
      "310\n",
      "155\n",
      "466\n",
      "233\n",
      "700\n",
      "350\n",
      "175\n",
      "526\n",
      "263\n",
      "790\n",
      "395\n",
      "1186\n",
      "593\n",
      "1780\n",
      "890\n",
      "445\n",
      "1336\n",
      "668\n",
      "334\n",
      "167\n",
      "502\n",
      "251\n",
      "754\n",
      "377\n",
      "1132\n",
      "566\n",
      "283\n",
      "850\n",
      "425\n",
      "1276\n",
      "638\n",
      "319\n",
      "958\n",
      "479\n",
      "1438\n",
      "719\n",
      "2158\n",
      "1079\n",
      "3238\n",
      "1619\n",
      "4858\n",
      "2429\n",
      "7288\n",
      "3644\n",
      "1822\n",
      "911\n",
      "2734\n",
      "1367\n",
      "4102\n",
      "2051\n",
      "6154\n",
      "3077\n",
      "9232\n",
      "4616\n",
      "2308\n",
      "1154\n",
      "577\n",
      "1732\n",
      "866\n",
      "433\n",
      "1300\n",
      "650\n",
      "325\n",
      "976\n",
      "488\n",
      "244\n",
      "122\n",
      "61\n",
      "184\n",
      "92\n",
      "46\n",
      "23\n",
      "70\n",
      "35\n",
      "106\n",
      "53\n",
      "160\n",
      "80\n",
      "40\n",
      "20\n",
      "10\n",
      "5\n",
      "16\n",
      "8\n",
      "4\n",
      "2\n",
      "1\n"
     ]
    }
   ],
   "source": [
    "def collatz(n):\n",
    "    if (n < 1):\n",
    "        print('Input must be a positive integer')\n",
    "        return\n",
    "    if not(isinstance(n, int)):\n",
    "        print('Input must be of the type integer')\n",
    "        return\n",
    "    \n",
    "    print(n)\n",
    "\n",
    "    if n % 2 == 0:\n",
    "        n = n//2\n",
    "    else:\n",
    "        n = 3*n + 1\n",
    "        \n",
    "    if n == 1:\n",
    "        print(n)\n",
    "        return\n",
    "    collatz(n)\n",
    "\n",
    "collatz(27)"
   ]
  },
  {
   "cell_type": "markdown",
   "metadata": {},
   "source": [
    "# Answer 6"
   ]
  },
  {
   "cell_type": "code",
   "execution_count": 39,
   "metadata": {},
   "outputs": [
    {
     "name": "stdout",
     "output_type": "stream",
     "text": [
      "1001\n"
     ]
    }
   ],
   "source": [
    "def binary(n):\n",
    "    if (n < 0):\n",
    "        print('Input must be a positive integer')\n",
    "        return\n",
    "    if not(isinstance(n, int)):\n",
    "        print('Input must be of the type integer')\n",
    "        return\n",
    "    \n",
    "    if n == 0:\n",
    "        return 0\n",
    "    else:\n",
    "        return (n % 2 + 10 * binary(int(n//2)))\n",
    "\n",
    "print(binary(9))"
   ]
  },
  {
   "cell_type": "markdown",
   "metadata": {},
   "source": [
    "# Answer 7"
   ]
  },
  {
   "cell_type": "code",
   "execution_count": 40,
   "metadata": {},
   "outputs": [
    {
     "name": "stdout",
     "output_type": "stream",
     "text": [
      "W3C Mission\n",
      " Principles\n"
     ]
    }
   ],
   "source": [
    "from html.parser import HTMLParser\n",
    "\n",
    "class HeadingParser(HTMLParser):\n",
    "\n",
    "    # indentValue is used to keep track when header is detected\n",
    "    # and space counts associated with each header.\n",
    "    indentValue = -1\n",
    "    headerTags = {\n",
    "        'h1':0,\n",
    "        'h2':1,\n",
    "        'h3':2,\n",
    "        'h4':3,\n",
    "        'h5':4,\n",
    "        'h6':5\n",
    "    }\n",
    "\n",
    "    def handle_starttag(self, tag, attrs):\n",
    "        if  tag in self.headerTags:\n",
    "            self.indentValue = self.headerTags[tag]\t\n",
    "\n",
    "    def handle_endtag(self, tag):\n",
    "        if tag in self.headerTags:\n",
    "            self.indentValue = -1\n",
    "\n",
    "    def handle_data(self, data):\n",
    "        if self.indentValue >= 0:\n",
    "            print(' ' * self.indentValue + data)\n",
    "\n",
    "infile = open('w3c.html')\n",
    "content = infile.read()\n",
    "infile.close()\n",
    "hp = HeadingParser()\n",
    "hp.feed(content)"
   ]
  },
  {
   "cell_type": "markdown",
   "metadata": {},
   "source": [
    "# Answer 8"
   ]
  },
  {
   "cell_type": "code",
   "execution_count": 41,
   "metadata": {},
   "outputs": [
    {
     "name": "stdout",
     "output_type": "stream",
     "text": [
      "https://thepaciellogroup.github.io/AT-browser-tests/test-files/a-href.html\n",
      "\thttps://html.spec.whatwg.org/multipage/text-level-semantics.html#the-a-element\n",
      "\t\thttps://whatwg.org/\n",
      "\thttps://w3c.github.io/html-aam/#el-a\n",
      "\t\thttps://www.w3.org/WAI/intro/aria.php\n"
     ]
    }
   ],
   "source": [
    "# Regex taken from https://stackoverflow.com/a/7160778/2792410\n",
    "\n",
    "from html.parser import HTMLParser\n",
    "from urllib.request import urlopen\n",
    "import re\n",
    "\n",
    "class LinkParser(HTMLParser):\n",
    "\n",
    "    regex = re.compile(\n",
    "        r'^(?:http|ftp)s?://' # http:// or https://\n",
    "        r'(?:(?:[A-Z0-9](?:[A-Z0-9-]{0,61}[A-Z0-9])?\\.)+(?:[A-Z]{2,6}\\.?|[A-Z0-9-]{2,}\\.?)|' #domain...\n",
    "        r'localhost|' #localhost...\n",
    "        r'\\d{1,3}\\.\\d{1,3}\\.\\d{1,3}\\.\\d{1,3})' # ...or ip\n",
    "        r'(?::\\d+)?' # optional port\n",
    "        r'(?:/?|[/?]\\S+)$', re.IGNORECASE)\n",
    "\n",
    "\n",
    "    def __init__(self):   \n",
    "        self.links = []\n",
    "        HTMLParser.__init__(self)\n",
    "\n",
    "\n",
    "    def reset(self):\n",
    "        HTMLParser.reset(self)\n",
    "        self.links = []\n",
    "\n",
    "    def handle_starttag(self, tag, attrs):\n",
    "        if tag == 'a':\n",
    "            for name, value in attrs:\n",
    "                if name == 'href' and self.isValidUrl(value):\n",
    "                    self.links.append(value)\n",
    "                \n",
    "    def isValidUrl(self, url):\n",
    "        return (re.match(self.regex, url) is not None)\n",
    "\n",
    "def webdir(url, depth, indent):\n",
    "\n",
    "    if depth < 0:\n",
    "        return\n",
    "\n",
    "    print('\\t' * indent + url)\n",
    "\n",
    "    html = urlopen(url)\n",
    "    parser = LinkParser()\n",
    "    encoding = html.headers.get_content_charset() or 'UTF-8'\n",
    "\n",
    "    for line in html:\n",
    "        parser.feed(line.decode(encoding))\n",
    "    \n",
    "    links = parser.links[:depth]\n",
    "\n",
    "    for url in links:\n",
    "        webdir(url,depth-1,indent+1)\n",
    "\n",
    "webdir('https://thepaciellogroup.github.io/AT-browser-tests/test-files/a-href.html' , 2, 0)"
   ]
  },
  {
   "cell_type": "markdown",
   "metadata": {},
   "source": [
    "# Answer 9"
   ]
  },
  {
   "cell_type": "code",
   "execution_count": 42,
   "metadata": {},
   "outputs": [
    {
     "name": "stdout",
     "output_type": "stream",
     "text": [
      "Database created and Successfully Connected to SQLite\n",
      "\n",
      "\n",
      "Query :  SELECT temp FROM rainfall\n",
      "Result is:  [(24.8,), (28.4,), (27.9,), (27.6,), (4.2,), (8.3,), (15.7,), (10.4,), (13.6,), (20.7,), (27.7,), (22.2,)]\n",
      "\n",
      "\n",
      "Query :  SELECT DISTINCT city FROM rainfall\n",
      "Result is:  [('Mumbai',), ('London',), ('Cairo',)]\n",
      "\n",
      "\n",
      "Query :  SELECT * FROM rainfall WHERE country='India'\n",
      "Result is:  [('Mumbai', 'India', 'Winter', 24.8, 5.9), ('Mumbai', 'India', 'Spring', 28.4, 16.2), ('Mumbai', 'India', 'Summer', 27.9, 1549.4), ('Mumbai', 'India', 'Fall', 27.6, 346)]\n",
      "\n",
      "\n",
      "Query :  SELECT * FROM rainfall WHERE season='Fall'\n",
      "Result is:  [('Mumbai', 'India', 'Fall', 27.6, 346), ('London', 'United Kingdom', 'Fall', 10.4, 218.5), ('Cairo', 'Egypt', 'Fall', 22.2, 4.5)]\n",
      "\n",
      "\n",
      "Query :  SELECT city, country, season FROM rainfall WHERE rainfall BETWEEN 200 AND 400\n",
      "Result is:  [('Mumbai', 'India', 'Fall'), ('London', 'United Kingdom', 'Winter'), ('London', 'United Kingdom', 'Fall')]\n",
      "\n",
      "\n",
      "Query :  SELECT city, country, temp FROM rainfall WHERE temp > 20 ORDER BY temp ASC\n",
      "Result is:  [('Cairo', 'Egypt', 20.7), ('Cairo', 'Egypt', 22.2), ('Mumbai', 'India', 24.8), ('Mumbai', 'India', 27.6), ('Cairo', 'Egypt', 27.7), ('Mumbai', 'India', 27.9), ('Mumbai', 'India', 28.4)]\n",
      "\n",
      "\n",
      "Query :  SELECT SUM(rainfall) FROM rainfall WHERE city='Cairo'\n",
      "Result is:  [(27.6,)]\n",
      "\n",
      "\n",
      "Query :  SELECT SUM(rainfall) FROM rainfall GROUP BY season \n",
      "Result is:  [(569.0,), (192.29999999999998,), (1706.5,), (230.1,)]\n",
      "\n",
      "\n",
      "The SQLite connection is closed\n"
     ]
    }
   ],
   "source": [
    "# https://pynative.com/python-sqlite/\n",
    "#Below queries are in the order of the question.\n",
    "\n",
    "queries = [\n",
    "'SELECT temp FROM rainfall',\n",
    "'SELECT DISTINCT city FROM rainfall',\n",
    "\"SELECT * FROM rainfall WHERE country='India'\",\n",
    "\"SELECT * FROM rainfall WHERE season='Fall'\",\n",
    "\"SELECT city, country, season FROM rainfall WHERE rainfall BETWEEN 200 AND 400\",\n",
    "\"SELECT city, country, temp FROM rainfall WHERE temp > 20 ORDER BY temp ASC\",\n",
    "\"SELECT SUM(rainfall) FROM rainfall WHERE city='Cairo'\",\n",
    "\"SELECT SUM(rainfall) FROM rainfall GROUP BY season \"\n",
    "]\n",
    "\n",
    "import sqlite3\n",
    "\n",
    "try:\n",
    "    sqliteConnection = sqlite3.connect('temp.db')\n",
    "    cursor = sqliteConnection.cursor()\n",
    "    print(\"Database created and Successfully Connected to SQLite\")\n",
    "    print(\"\\n\")\n",
    "    \n",
    "    for query in queries:\n",
    "        cursor.execute(query)\n",
    "        record = cursor.fetchall()\n",
    "        print(\"Query : \", query)\n",
    "        print(\"Result is: \", record)\n",
    "        print(\"\\n\")\n",
    "    cursor.close()\n",
    "\n",
    "except sqlite3.Error as error:\n",
    "    print(\"Error while connecting to sqlite\", error)\n",
    "finally:\n",
    "    if (sqliteConnection):\n",
    "        sqliteConnection.close()\n",
    "        print(\"The SQLite connection is closed\")\n",
    "\n"
   ]
  },
  {
   "cell_type": "markdown",
   "metadata": {},
   "source": [
    "# Answer 10"
   ]
  },
  {
   "cell_type": "code",
   "execution_count": 43,
   "metadata": {},
   "outputs": [
    {
     "name": "stdout",
     "output_type": "stream",
     "text": [
      "['THE', 'QUICK', 'BROWN', 'FOX', 'JUMPS', 'OVER', 'THE', 'LAZY', 'DOG']\n",
      "['the', 'quick', 'brown', 'fox', 'jumps', 'over', 'the', 'lazy', 'dog']\n",
      "[3, 5, 5, 3, 5, 4, 3, 4, 3]\n",
      "[['THE', 'the', 3], ['QUICK', 'quick', 5], ['BROWN', 'brown', 5], ['FOX', 'fox', 3], ['JUMPS', 'jumps', 5], ['OVER', 'over', 4], ['THE', 'the', 3], ['LAZY', 'lazy', 4], ['DOG', 'dog', 3]]\n",
      "['quick', 'brown', 'jumps', 'over', 'lazy']\n"
     ]
    }
   ],
   "source": [
    "words = ['The', 'quick', 'brown', 'fox', 'jumps', 'over', 'the', 'lazy', 'dog']\n",
    "\n",
    "print([ word.upper() for word in words ])\n",
    "print([ word.lower() for word in words ])\n",
    "print([ len(word) for word in words ])\n",
    "print([[word.upper(), word.lower(), len(word)]  for word in words ])\n",
    "print([word for word in words if len(word) >= 4 ])"
   ]
  }
 ],
 "metadata": {
  "kernelspec": {
   "display_name": "Python 3",
   "language": "python",
   "name": "python3"
  },
  "language_info": {
   "codemirror_mode": {
    "name": "ipython",
    "version": 3
   },
   "file_extension": ".py",
   "mimetype": "text/x-python",
   "name": "python",
   "nbconvert_exporter": "python",
   "pygments_lexer": "ipython3",
   "version": "3.7.6"
  }
 },
 "nbformat": 4,
 "nbformat_minor": 4
}
